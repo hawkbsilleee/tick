{
 "cells": [
  {
   "cell_type": "markdown",
   "metadata": {},
   "source": [
    "Move File Code"
   ]
  },
  {
   "cell_type": "code",
   "execution_count": 31,
   "metadata": {},
   "outputs": [],
   "source": [
    "import shutil \n",
    "import glob\n",
    "import os\n",
    "\n",
    "def move_file(name_aug):\n",
    "\n",
    "    for xmlfile in glob.iglob(os.path.join('clone_directory/'+name_aug+'/annotations', \"*.xml\")):\n",
    "\n",
    "        length_dir = len('clone_directory/'+name_aug+'/annotations/')\n",
    "\n",
    "        new_name_xmlfile = xmlfile[:length_dir]+name_aug+xmlfile[length_dir:]\n",
    "\n",
    "        os.rename(xmlfile, new_name_xmlfile)\n",
    "\n",
    "        shutil.copy(new_name_xmlfile, 'main_augmented_dataset')\n",
    "\n",
    "\n",
    "\n",
    "    for jpgfile in glob.iglob(os.path.join('clone_directory/'+name_aug+'/images', \"*.jpg\")):\n",
    "\n",
    "        length_dir2 = len('clone_directory/'+name_aug+'/images/')\n",
    "\n",
    "        new_name_jpgfile = jpgfile[:length_dir2]+name_aug+jpgfile[length_dir2:]\n",
    "\n",
    "        os.rename(jpgfile, new_name_jpgfile)\n",
    "\n",
    "        shutil.copy(new_name_jpgfile, 'main_augmented_dataset')\n"
   ]
  },
  {
   "cell_type": "code",
   "execution_count": 32,
   "metadata": {},
   "outputs": [],
   "source": [
    "move_file('flip_aug')\n",
    "move_file('motionblur_aug')\n",
    "move_file('rotate90_aug')\n",
    "move_file('rotation_aug')\n"
   ]
  },
  {
   "cell_type": "markdown",
   "metadata": {},
   "source": [
    "Folder Creator"
   ]
  },
  {
   "cell_type": "code",
   "execution_count": null,
   "metadata": {},
   "outputs": [],
   "source": [
    "# makes multiple folders which each contain full copies of the original tick dataset\n",
    "\n",
    "initial_direct = 'root_direct'\n",
    "os.makedirs(initial_direct)\n",
    "\n",
    "for i in range(5):\n",
    "    direct = 'root_direct/' + str(i) + 'testdirect'\n",
    "    os.makedirs(direct)\n",
    "\n",
    "    for xmlfile in glob.iglob(os.path.join('tick_test/annotations', \"*.xml\")):\n",
    "        shutil.copy(xmlfile, direct)\n",
    "\n",
    "    for jpgfile in glob.iglob(os.path.join('tick_test/images', \"*.jpg\")):\n",
    "        shutil.copy(jpgfile, direct)"
   ]
  },
  {
   "cell_type": "code",
   "execution_count": 7,
   "metadata": {},
   "outputs": [],
   "source": [
    "import glob\n",
    "import os \n",
    "import shutil\n",
    "\n",
    "def move_file_third(src, direct):\n",
    "\n",
    "    for xmlfile in glob.iglob(os.path.join(src+'/annotations', \"*.xml\")):\n",
    "        shutil.copy(xmlfile, direct)\n",
    "\n",
    "    for jpgfile in glob.iglob(os.path.join(src + '/images', \"*.jpg\")):\n",
    "        shutil.copy(jpgfile, direct)\n",
    "\n",
    "def delete_file(src):\n",
    "\n",
    "    for xmlfile in glob.iglob(os.path.join(src, \"*.xml\")):\n",
    "        os.remove(xmlfile)\n",
    "\n",
    "    for jpgfile in glob.iglob(os.path.join(src, \"*.jpg\")):\n",
    "        os.remove(jpgfile)\n",
    "\n",
    "\n",
    "\n",
    "delete_file('testing_aug')\n",
    "move_file_third('tick_test', 'testing_aug')\n"
   ]
  }
 ],
 "metadata": {
  "interpreter": {
   "hash": "397704579725e15f5c7cb49fe5f0341eb7531c82d19f2c29d197e8b64ab5776b"
  },
  "kernelspec": {
   "display_name": "Python 3.9.4 64-bit",
   "language": "python",
   "name": "python3"
  },
  "language_info": {
   "codemirror_mode": {
    "name": "ipython",
    "version": 3
   },
   "file_extension": ".py",
   "mimetype": "text/x-python",
   "name": "python",
   "nbconvert_exporter": "python",
   "pygments_lexer": "ipython3",
   "version": "3.9.4"
  },
  "orig_nbformat": 4
 },
 "nbformat": 4,
 "nbformat_minor": 2
}
