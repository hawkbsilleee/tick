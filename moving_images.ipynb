{
 "cells": [
  {
   "cell_type": "markdown",
   "metadata": {},
   "source": [
    "Move File Code"
   ]
  },
  {
   "cell_type": "code",
   "execution_count": 31,
   "metadata": {},
   "outputs": [],
   "source": [
    "import shutil \n",
    "import glob\n",
    "import os\n",
    "\n",
    "def move_file(name_aug):\n",
    "\n",
    "    for xmlfile in glob.iglob(os.path.join('clone_directory/'+name_aug+'/annotations', \"*.xml\")):\n",
    "\n",
    "        length_dir = len('clone_directory/'+name_aug+'/annotations/')\n",
    "\n",
    "        new_name_xmlfile = xmlfile[:length_dir]+name_aug+xmlfile[length_dir:]\n",
    "\n",
    "        os.rename(xmlfile, new_name_xmlfile)\n",
    "\n",
    "        shutil.copy(new_name_xmlfile, 'main_augmented_dataset')\n",
    "\n",
    "\n",
    "\n",
    "    for jpgfile in glob.iglob(os.path.join('clone_directory/'+name_aug+'/images', \"*.jpg\")):\n",
    "\n",
    "        length_dir2 = len('clone_directory/'+name_aug+'/images/')\n",
    "\n",
    "        new_name_jpgfile = jpgfile[:length_dir2]+name_aug+jpgfile[length_dir2:]\n",
    "\n",
    "        os.rename(jpgfile, new_name_jpgfile)\n",
    "\n",
    "        shutil.copy(new_name_jpgfile, 'main_augmented_dataset')\n"
   ]
  },
  {
   "cell_type": "code",
   "execution_count": 32,
   "metadata": {},
   "outputs": [],
   "source": [
    "move_file('flip_aug')\n",
    "move_file('motionblur_aug')\n",
    "move_file('rotate90_aug')\n",
    "move_file('rotation_aug')\n"
   ]
  },
  {
   "cell_type": "markdown",
   "metadata": {},
   "source": [
    "Folder Creator"
   ]
  },
  {
   "cell_type": "code",
   "execution_count": null,
   "metadata": {},
   "outputs": [],
   "source": [
    "# makes multiple folders which each contain full copies of the original tick dataset\n",
    "\n",
    "initial_direct = 'root_direct'\n",
    "os.makedirs(initial_direct)\n",
    "\n",
    "for i in range(5):\n",
    "    direct = 'root_direct/' + str(i) + 'testdirect'\n",
    "    os.makedirs(direct)\n",
    "\n",
    "    for xmlfile in glob.iglob(os.path.join('tick_test/annotations', \"*.xml\")):\n",
    "        shutil.copy(xmlfile, direct)\n",
    "\n",
    "    for jpgfile in glob.iglob(os.path.join('tick_test/images', \"*.jpg\")):\n",
    "        shutil.copy(jpgfile, direct)"
   ]
  },
  {
   "cell_type": "code",
   "execution_count": 7,
   "metadata": {},
   "outputs": [],
   "source": [
    "import glob\n",
    "import os \n",
    "import shutil\n",
    "\n",
    "def move_file_third(src, direct):\n",
    "\n",
    "    for xmlfile in glob.iglob(os.path.join(src+'/annotations', \"*.xml\")):\n",
    "        shutil.copy(xmlfile, direct)\n",
    "\n",
    "    for jpgfile in glob.iglob(os.path.join(src + '/images', \"*.jpg\")):\n",
    "        shutil.copy(jpgfile, direct)\n",
    "\n",
    "def delete_file(src):\n",
    "\n",
    "    for xmlfile in glob.iglob(os.path.join(src, \"*.xml\")):\n",
    "        os.remove(xmlfile)\n",
    "\n",
    "    for jpgfile in glob.iglob(os.path.join(src, \"*.jpg\")):\n",
    "        os.remove(jpgfile)\n",
    "\n",
    "\n",
    "\n",
    "delete_file('testing_aug')\n",
    "move_file_third('tick_test', 'testing_aug')\n"
   ]
  },
  {
   "cell_type": "code",
   "execution_count": 7,
   "metadata": {},
   "outputs": [
    {
     "ename": "error",
     "evalue": "OpenCV(4.5.5) /Users/runner/work/opencv-python/opencv-python/opencv/modules/highgui/src/window.cpp:1191: error: (-213:The function/feature is not implemented) The library is compiled without QT support in function 'displayStatusBar'\n",
     "output_type": "error",
     "traceback": [
      "\u001b[0;31m---------------------------------------------------------------------------\u001b[0m",
      "\u001b[0;31merror\u001b[0m                                     Traceback (most recent call last)",
      "\u001b[0;32m/var/folders/1f/cdbrvc6n3mb2q5k3m0jpgm9c5sjng3/T/ipykernel_77399/3699132128.py\u001b[0m in \u001b[0;36m<module>\u001b[0;34m\u001b[0m\n\u001b[1;32m      4\u001b[0m \u001b[0mimg\u001b[0m \u001b[0;34m=\u001b[0m \u001b[0mcv\u001b[0m\u001b[0;34m.\u001b[0m\u001b[0mimread\u001b[0m\u001b[0;34m(\u001b[0m\u001b[0;34m\"000001_0.jpg\"\u001b[0m\u001b[0;34m)\u001b[0m\u001b[0;34m\u001b[0m\u001b[0;34m\u001b[0m\u001b[0m\n\u001b[1;32m      5\u001b[0m \u001b[0mwindow\u001b[0m \u001b[0;34m=\u001b[0m \u001b[0mSelectionWindow\u001b[0m\u001b[0;34m(\u001b[0m\u001b[0mimg\u001b[0m\u001b[0;34m)\u001b[0m\u001b[0;34m\u001b[0m\u001b[0;34m\u001b[0m\u001b[0m\n\u001b[0;32m----> 6\u001b[0;31m \u001b[0mwindow\u001b[0m\u001b[0;34m.\u001b[0m\u001b[0mshow\u001b[0m\u001b[0;34m(\u001b[0m\u001b[0;34m)\u001b[0m\u001b[0;34m\u001b[0m\u001b[0;34m\u001b[0m\u001b[0m\n\u001b[0m\u001b[1;32m      7\u001b[0m \u001b[0;34m\u001b[0m\u001b[0m\n\u001b[1;32m      8\u001b[0m \u001b[0mprint\u001b[0m\u001b[0;34m(\u001b[0m\u001b[0;34mf\"Selection mean: {window.mean[:, 0]}.\"\u001b[0m\u001b[0;34m)\u001b[0m\u001b[0;34m\u001b[0m\u001b[0;34m\u001b[0m\u001b[0m\n",
      "\u001b[0;32m~/Desktop/Tick Code/tick_dataset/magicwand/__init__.py\u001b[0m in \u001b[0;36mshow\u001b[0;34m(self)\u001b[0m\n\u001b[1;32m     82\u001b[0m     \u001b[0;32mdef\u001b[0m \u001b[0mshow\u001b[0m\u001b[0;34m(\u001b[0m\u001b[0mself\u001b[0m\u001b[0;34m)\u001b[0m\u001b[0;34m:\u001b[0m\u001b[0;34m\u001b[0m\u001b[0;34m\u001b[0m\u001b[0m\n\u001b[1;32m     83\u001b[0m         \u001b[0;34m\"\"\"Draws a window with the supplied image.\"\"\"\u001b[0m\u001b[0;34m\u001b[0m\u001b[0;34m\u001b[0m\u001b[0m\n\u001b[0;32m---> 84\u001b[0;31m         \u001b[0mself\u001b[0m\u001b[0;34m.\u001b[0m\u001b[0m_update\u001b[0m\u001b[0;34m(\u001b[0m\u001b[0;34m)\u001b[0m\u001b[0;34m\u001b[0m\u001b[0;34m\u001b[0m\u001b[0m\n\u001b[0m\u001b[1;32m     85\u001b[0m         \u001b[0mprint\u001b[0m\u001b[0;34m(\u001b[0m\u001b[0;34m\"Press [q] or [esc] to close the window.\"\u001b[0m\u001b[0;34m)\u001b[0m\u001b[0;34m\u001b[0m\u001b[0;34m\u001b[0m\u001b[0m\n\u001b[1;32m     86\u001b[0m         \u001b[0;32mwhile\u001b[0m \u001b[0;32mTrue\u001b[0m\u001b[0;34m:\u001b[0m\u001b[0;34m\u001b[0m\u001b[0;34m\u001b[0m\u001b[0m\n",
      "\u001b[0;32m~/Desktop/Tick Code/tick_dataset/magicwand/__init__.py\u001b[0m in \u001b[0;36m_update\u001b[0;34m(self)\u001b[0m\n\u001b[1;32m     78\u001b[0m         \u001b[0mstdstr\u001b[0m \u001b[0;34m=\u001b[0m \u001b[0;34m\"std=({:.2f}, {:.2f}, {:.2f})\"\u001b[0m\u001b[0;34m.\u001b[0m\u001b[0mformat\u001b[0m\u001b[0;34m(\u001b[0m\u001b[0;34m*\u001b[0m\u001b[0mself\u001b[0m\u001b[0;34m.\u001b[0m\u001b[0mstddev\u001b[0m\u001b[0;34m[\u001b[0m\u001b[0;34m:\u001b[0m\u001b[0;34m,\u001b[0m \u001b[0;36m0\u001b[0m\u001b[0;34m]\u001b[0m\u001b[0;34m)\u001b[0m\u001b[0;34m\u001b[0m\u001b[0;34m\u001b[0m\u001b[0m\n\u001b[1;32m     79\u001b[0m         \u001b[0mcv\u001b[0m\u001b[0;34m.\u001b[0m\u001b[0mimshow\u001b[0m\u001b[0;34m(\u001b[0m\u001b[0mself\u001b[0m\u001b[0;34m.\u001b[0m\u001b[0mname\u001b[0m\u001b[0;34m,\u001b[0m \u001b[0mviz\u001b[0m\u001b[0;34m)\u001b[0m\u001b[0;34m\u001b[0m\u001b[0;34m\u001b[0m\u001b[0m\n\u001b[0;32m---> 80\u001b[0;31m         \u001b[0mcv\u001b[0m\u001b[0;34m.\u001b[0m\u001b[0mdisplayStatusBar\u001b[0m\u001b[0;34m(\u001b[0m\u001b[0mself\u001b[0m\u001b[0;34m.\u001b[0m\u001b[0mname\u001b[0m\u001b[0;34m,\u001b[0m \u001b[0;34m\", \"\u001b[0m\u001b[0;34m.\u001b[0m\u001b[0mjoin\u001b[0m\u001b[0;34m(\u001b[0m\u001b[0;34m(\u001b[0m\u001b[0mmeanstr\u001b[0m\u001b[0;34m,\u001b[0m \u001b[0mstdstr\u001b[0m\u001b[0;34m)\u001b[0m\u001b[0;34m)\u001b[0m\u001b[0;34m)\u001b[0m\u001b[0;34m\u001b[0m\u001b[0;34m\u001b[0m\u001b[0m\n\u001b[0m\u001b[1;32m     81\u001b[0m \u001b[0;34m\u001b[0m\u001b[0m\n\u001b[1;32m     82\u001b[0m     \u001b[0;32mdef\u001b[0m \u001b[0mshow\u001b[0m\u001b[0;34m(\u001b[0m\u001b[0mself\u001b[0m\u001b[0;34m)\u001b[0m\u001b[0;34m:\u001b[0m\u001b[0;34m\u001b[0m\u001b[0;34m\u001b[0m\u001b[0m\n",
      "\u001b[0;31merror\u001b[0m: OpenCV(4.5.5) /Users/runner/work/opencv-python/opencv-python/opencv/modules/highgui/src/window.cpp:1191: error: (-213:The function/feature is not implemented) The library is compiled without QT support in function 'displayStatusBar'\n"
     ]
    }
   ],
   "source": [
    "from magicwand import SelectionWindow\n",
    "import cv2 as cv\n",
    "\n",
    "img = cv.imread(\"000001_0.jpg\")\n",
    "window = SelectionWindow(img)\n",
    "window.show()\n",
    "\n",
    "print(f\"Selection mean: {window.mean[:, 0]}.\")\n"
   ]
  }
 ],
 "metadata": {
  "interpreter": {
   "hash": "aee8b7b246df8f9039afb4144a1f6fd8d2ca17a180786b69acc140d282b71a49"
  },
  "kernelspec": {
   "display_name": "Python 3.10.4 64-bit",
   "language": "python",
   "name": "python3"
  },
  "language_info": {
   "codemirror_mode": {
    "name": "ipython",
    "version": 3
   },
   "file_extension": ".py",
   "mimetype": "text/x-python",
   "name": "python",
   "nbconvert_exporter": "python",
   "pygments_lexer": "ipython3",
   "version": "3.10.4"
  },
  "orig_nbformat": 4
 },
 "nbformat": 4,
 "nbformat_minor": 2
}
