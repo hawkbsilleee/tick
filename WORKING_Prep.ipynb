{
 "cells": [
  {
   "cell_type": "code",
   "execution_count": 2,
   "metadata": {},
   "outputs": [],
   "source": [
    "from imgaug.augmentables.bbs import BoundingBox, BoundingBoxesOnImage\n",
    "import cv2\n",
    "import imageio\n",
    "import imgaug as ia\n",
    "from imgaug import augmenters as iaa\n",
    "import numpy as np\n",
    "%matplotlib inline\n",
    "import xml.etree.ElementTree as ET\n",
    "import pandas as pd \n",
    "import shutil \n",
    "import os \n",
    "import glob\n",
    "from PIL import Image\n",
    "import glob"
   ]
  },
  {
   "cell_type": "code",
   "execution_count": 21,
   "metadata": {},
   "outputs": [],
   "source": [
    "# prepares everything\n",
    "original_path_xml = 'all_data/annotations' # 'tick_test/annotations' \n",
    "original_path_jpg = 'all_data/images' # 'tick_test/images'\n",
    "\n",
    "# original_path_xml = 'tick_test/annotations' \n",
    "# original_path_jpg = 'tick_test/images'\n",
    "\n",
    "for xmlfile in glob.iglob(os.path.join(original_path_xml, \"*.xml\")):\n",
    "    shutil.copy(xmlfile, 'tick_test copy')\n",
    "\n",
    "for jpgfile in glob.iglob(os.path.join(original_path_jpg, \"*.jpg\")):\n",
    "    shutil.copy(jpgfile, 'tick_test copy')\n",
    "\n",
    "for file in glob.iglob('tick_test copy/*'):\n",
    "    if file.startswith('tick_test copy/IMG'):\n",
    "        new_file = file.removeprefix('tick_test copy/IMG_')\n",
    "        new_file = 'tick_test copy/' + new_file\n",
    "        os.rename(file, new_file)\n",
    "\n",
    "for file in glob.iglob('tick_test copy/*'):\n",
    "    if file.startswith('tick_test copy/23xml.xml'):\n",
    "        os.remove(file)\n",
    "    elif file.startswith('tick_test copy/23.jpg'):\n",
    "        os.remove(file)\n",
    "    elif file.startswith('tick_test copy/1033.jpg'):\n",
    "        os.remove(file)\n",
    "    elif file.startswith('tick_test copy/21.jpg'):\n",
    "        os.remove(file)\n",
    "    elif file.startswith('tick_test copy/19.jpg'):\n",
    "        os.remove(file)\n",
    "\n",
    "# XML\n",
    "def copy_xml(rang: int, xml_name: str):\n",
    "    for i in range(rang):\n",
    "        edit2 = xml_name.removesuffix('.xml')\n",
    "        new_xml_name = edit2 + '_' + str(i) + '.xml'\n",
    "        shutil.copy(xml_name, new_xml_name)\n",
    "        \n",
    "        \n",
    "\n",
    "#IMAGES \n",
    "def copy_image(ran: int, image_name: str):\n",
    "    for i in range(ran):\n",
    "        edit = image_name.removesuffix('.jpg')\n",
    "        shutil.copy(image_name, edit + '_' + str(i) + '.jpg')\n",
    "\n",
    "\n",
    "for file in glob.iglob('tick_test copy/*'):\n",
    "    if file.endswith('.jpg'):\n",
    "        copy_image(4, file) # 2\n",
    "    elif file.endswith('.xml'):\n",
    "        copy_xml(4, file) # 2\n",
    "\n",
    "for file in glob.iglob('tick_test copy/*'):\n",
    "    if file.endswith('.xml'):\n",
    "        tree = ET.parse(file)\n",
    "        root = tree.getroot()\n",
    "        file1 = file\n",
    "        file1 = file1.removesuffix('.xml')\n",
    "        file1 = file1 + '.jpg'\n",
    "        for path in root.iter('path'):\n",
    "            path.text = str(file1)\n",
    "        file1 = file.removeprefix('tick_test copy/')\n",
    "        file1 = file1.removesuffix('.xml')\n",
    "        file1 = file1 + '.jpg'\n",
    "        for filename in root.iter('filename'):\n",
    "            filename.text = str(file1)\n",
    "        tree.write(file)\n",
    "  "
   ]
  },
  {
   "cell_type": "code",
   "execution_count": 20,
   "metadata": {},
   "outputs": [],
   "source": [
    "for file in glob.iglob('tick_test copy/*'):\n",
    "    os.remove(file)"
   ]
  },
  {
   "cell_type": "markdown",
   "metadata": {},
   "source": [
    "Testing "
   ]
  },
  {
   "cell_type": "code",
   "execution_count": 24,
   "metadata": {},
   "outputs": [],
   "source": [
    "for file in glob.iglob('test_direct/*'):\n",
    "    os.remove(file)"
   ]
  },
  {
   "cell_type": "code",
   "execution_count": 25,
   "metadata": {},
   "outputs": [],
   "source": [
    "shutil.copy('tick_test/annotations/1.xml', 'test_direct')\n",
    "shutil.copy('tick_test/annotations/2.xml', 'test_direct')\n",
    "shutil.copy('tick_test/annotations/3.xml', 'test_direct')\n",
    "shutil.copy('tick_test/annotations/6.xml', 'test_direct')\n",
    "shutil.copy('tick_test/annotations/1032.xml', 'test_direct')\n",
    "\n",
    "shutil.copy('tick_test/images/1.jpg', 'test_direct')\n",
    "shutil.copy('tick_test/images/2.jpg', 'test_direct')\n",
    "shutil.copy('tick_test/images/3.jpg', 'test_direct')\n",
    "shutil.copy('tick_test/images/6.jpg', 'test_direct')\n",
    "shutil.copy('tick_test/images/IMG_1032.jpg', 'test_direct')\n",
    "\n",
    "os.rename('test_direct/IMG_1032.jpg', 'test_direct/1032.jpg')"
   ]
  },
  {
   "cell_type": "markdown",
   "metadata": {},
   "source": []
  },
  {
   "cell_type": "code",
   "execution_count": null,
   "metadata": {},
   "outputs": [],
   "source": [
    "# XML\n",
    "def copy_xml(rang: int, xml_name: str):\n",
    "    for i in range(rang):\n",
    "        edit2 = xml_name.removesuffix('.xml')\n",
    "        shutil.copy(xml_name, edit2 + '_' + str(i) + '.xml')\n",
    "\n",
    "#IMAGES \n",
    "def copy_image(ran: int, image_name: str):\n",
    "    for i in range(ran):\n",
    "        edit = image_name.removesuffix('.jpg')\n",
    "        shutil.copy(image_name, edit + '_' + str(i) + '.jpg')\n",
    "\n",
    "\n",
    "for file in glob.iglob('tick_test copy/*'):\n",
    "    if file.endswith('.jpg'):\n",
    "        copy_image(2, file)\n",
    "    elif file.endswith('.xml'):\n",
    "        copy_xml(2, file)\n"
   ]
  },
  {
   "cell_type": "code",
   "execution_count": null,
   "metadata": {},
   "outputs": [],
   "source": [
    "# gets rid of IMG\n",
    "for file in glob.iglob('tick_test copy/*'):\n",
    "    if file.startswith('tick_test copy/IMG'):\n",
    "        new_file = file.removeprefix('tick_test copy/IMG_')\n",
    "        new_file = 'tick_test copy/' + new_file\n",
    "        os.rename(file, new_file)\n",
    "\n"
   ]
  }
 ],
 "metadata": {
  "interpreter": {
   "hash": "397704579725e15f5c7cb49fe5f0341eb7531c82d19f2c29d197e8b64ab5776b"
  },
  "kernelspec": {
   "display_name": "Python 3.9.4 64-bit",
   "language": "python",
   "name": "python3"
  },
  "language_info": {
   "codemirror_mode": {
    "name": "ipython",
    "version": 3
   },
   "file_extension": ".py",
   "mimetype": "text/x-python",
   "name": "python",
   "nbconvert_exporter": "python",
   "pygments_lexer": "ipython3",
   "version": "3.9.4"
  },
  "orig_nbformat": 4
 },
 "nbformat": 4,
 "nbformat_minor": 2
}
